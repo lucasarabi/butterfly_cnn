{
 "cells": [
  {
   "cell_type": "code",
   "execution_count": 2,
   "metadata": {},
   "outputs": [],
   "source": [
    "# Import libraries\n",
    "import tensorflow as tf\n",
    "import numpy as np\n",
    "import random\n",
    "\n",
    "from tensorflow.keras.applications import MobileNetV3Small\n",
    "from tensorflow.keras.layers import Dense, GlobalAveragePooling2D, Input\n",
    "from tensorflow.keras.models import Model\n",
    "from tensorflow.keras.optimizers import Adam\n",
    "from tensorflow.keras.losses import SparseCategoricalCrossentropy\n",
    "from tensorflow.keras.preprocessing import image_dataset_from_directory\n",
    "from tensorflow.keras.layers import Rescaling\n",
    "\n",
    "import fewshot_functions as fs"
   ]
  },
  {
   "cell_type": "code",
   "execution_count": null,
   "metadata": {},
   "outputs": [],
   "source": [
    "# LOAD AND PROCESS DATA SET\n",
    "# ..."
   ]
  },
  {
   "cell_type": "markdown",
   "metadata": {},
   "source": [
    "MobileNetV3Small documentation:\n",
    "https://www.tensorflow.org/api_docs/python/tf/keras/applications/MobileNetV3Small"
   ]
  },
  {
   "cell_type": "code",
   "execution_count": 25,
   "metadata": {},
   "outputs": [],
   "source": [
    "# Load pre-trained model\n",
    "\n",
    "# Preloading with imagenet weights, excluding top layer as it the one we will be retraining\n",
    "base = MobileNetV3Small(input_shape=(224,224,3), \n",
    "                        weights=\"imagenet\", \n",
    "                        include_top=False,\n",
    "                        include_preprocessing=False\n",
    "                       )\n",
    "\n",
    "# Prevent imported weights from being retrained\n",
    "base.trainable = False"
   ]
  },
  {
   "cell_type": "markdown",
   "metadata": {},
   "source": [
    "Custom layers\n",
    "\n",
    "The embeddeding layer to be utilized by Fewshot will be set up here\n",
    "\n",
    "Prototypical Fewshot paper: https://arxiv.org/pdf/1703.05175"
   ]
  },
  {
   "cell_type": "code",
   "execution_count": null,
   "metadata": {},
   "outputs": [],
   "source": [
    "# Define input tensor (224x224 image with 3 color channels; RGB)\n",
    "inputs = tf.keras.Input(shape=(224,224,3))\n",
    "\n",
    "# Pass inputs through base model\n",
    "x = base(inputs, training=False)\n",
    "\n",
    "# Convert feature maps to single feature vector per image; alternative, flatten(), is prone to overfitting\n",
    "x = GlobalAveragePooling2D()(x)\n",
    "\n",
    "# Define number of classes in dataset; adjust as necessary\n",
    "outputs = Dense(128, activation='linear')(x)\n",
    "\n",
    "# Create customized model\n",
    "embedding_model = Model(inputs,outputs)"
   ]
  },
  {
   "cell_type": "markdown",
   "metadata": {},
   "source": [
    "Reached a roadblock here, but this is what the fewshot training will look like. I do not want to proceed until we have the data imported and preprocessed."
   ]
  },
  {
   "cell_type": "code",
   "execution_count": null,
   "metadata": {},
   "outputs": [],
   "source": [
    "# Training loop\n",
    "\n",
    "optimizer = Adam(learning_rate=0.001)\n",
    "\n",
    "episodes = 1000\n",
    "for episode in range(episodes):  # Train for 1000 episodes\n",
    "    support_images, support_labels, query_images, query_labels = fs.sample_episode(dataset)\n",
    "\n",
    "    with tf.GradientTape() as tape:\n",
    "        # Embed the support and query images\n",
    "        support_embeddings = embedding_model(support_images, training=True)\n",
    "        query_embeddings = embedding_model(query_images, training=True)\n",
    "        # Compute the loss\n",
    "        loss = fs.prototypical_loss(support_embeddings, support_labels, query_embeddings, query_labels)\n",
    "\n",
    "    # Optimize each variable and update the model\n",
    "    gradients = tape.gradient(loss, embedding_model.trainable_variables)\n",
    "    optimizer.apply_gradients(zip(gradients, embedding_model.trainable_variables))\n",
    "\n",
    "    # Log 1 episode of every 50 in console\n",
    "    if episode % 50 == 0:\n",
    "        print(f\"Episode {episode}: Loss = {loss.numpy():.4f}\")\n",
    "\n",
    "# Store for use later\n",
    "embedding_model.save(\"mobilenetv3_fewshot.h5\")"
   ]
  }
 ],
 "metadata": {
  "kernelspec": {
   "display_name": "Python 3",
   "language": "python",
   "name": "python3"
  },
  "language_info": {
   "codemirror_mode": {
    "name": "ipython",
    "version": 3
   },
   "file_extension": ".py",
   "mimetype": "text/x-python",
   "name": "python",
   "nbconvert_exporter": "python",
   "pygments_lexer": "ipython3",
   "version": "3.13.2"
  }
 },
 "nbformat": 4,
 "nbformat_minor": 2
}
